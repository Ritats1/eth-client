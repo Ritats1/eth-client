{
 "cells": [
  {
   "cell_type": "markdown",
   "metadata": {},
   "source": [
    "# Smart Contract Crash Course "
   ]
  },
  {
   "cell_type": "markdown",
   "metadata": {},
   "source": [
    "## Basic interaction with `geth`"
   ]
  },
  {
   "cell_type": "markdown",
   "metadata": {},
   "source": [
    "The most common client lib to interface with ethereum execution clients (`geth`,`ganache`,...) is **web3**.\n",
    "* [web3.js](https://github.com/ethereum/web3.js/)\n",
    "    - node.js version\n",
    "    - [API](https://web3js.readthedocs.io/)\n",
    "* [web3py](https://github.com/ethereum/web3.py)\n",
    "    - python version\n",
    "    - as I prefer python, we will use this one ;)\n",
    "    - [API](https://web3py.readthedocs.io/)\n",
    "    \n",
    "For this tutorial we will only interact with `geth`: \n",
    "* [geth console](https://geth.ethereum.org/docs/interface/javascript-console) has a link to the supported API via the geth console, which should be the \"full\" `web3.js` API.\n",
    "* [geth cli options](https://geth.ethereum.org/docs/interface/command-line-options) only needed when running geth from the command line"
   ]
  },
  {
   "cell_type": "markdown",
   "metadata": {},
   "source": [
    "## Connect via RPC/HTTP"
   ]
  },
  {
   "cell_type": "markdown",
   "metadata": {},
   "source": [
    "Note that in our case `geth` is running in a private PoA chain setup.\n",
    "Therefore, some configuration parameters are different. "
   ]
  },
  {
   "cell_type": "markdown",
   "metadata": {},
   "source": [
    "https://web3py.readthedocs.io/en/stable/middleware.html#geth-style-proof-of-authority"
   ]
  },
  {
   "cell_type": "markdown",
   "metadata": {},
   "source": [
    "For the challenge environment configuration the docker container for the geth client `Bob` is located at `172.18.0.8`."
   ]
  },
  {
   "cell_type": "code",
   "execution_count": 1,
   "metadata": {},
   "outputs": [],
   "source": [
    "import web3\n",
    "from web3.middleware import geth_poa_middleware\n",
    "\n",
    "w3 = web3.Web3(web3.Web3.HTTPProvider(\"http://geth-client-cnt:8545\"))\n",
    "# check if connection was successful\n",
    "assert w3.is_connected()\n",
    "\n",
    "w3.middleware_onion.inject(geth_poa_middleware, layer=0)"
   ]
  },
  {
   "cell_type": "code",
   "execution_count": 2,
   "metadata": {},
   "outputs": [
    {
     "data": {
      "text/plain": [
       "AttributeDict({'id': '76a8c5bca218e0ecfca09818ff4112faaf6aa1c9af9947ef3518e12127fa2b1b',\n",
       " 'name': 'Geth/bob/v1.10.3-stable-991384a7/linux-amd64/go1.21.5',\n",
       " 'enode': 'enode://d8ed6c277b0878cad10cc7a53daa8efbfe4a04b73016a484ef1df3eca7bd44d3d06c0707030ec5fbfcad0f8350e2a79a8491f5b6379e9cf4f5fcd04e8c6fa03d@127.0.0.1:30303?discport=0',\n",
       " 'enr': 'enr:-Ja4QGjX13WHXG9FOVyLyObNbiN3-ZbAwp4ECD9rmp5J-CHySk0NqpsOZMf9XGgvvJvq6IDNeqA4u3O_csPcvlAdCQoCg2V0aMfGhL8tJ2SAgmlkgnY0gmlwhH8AAAGJc2VjcDI1NmsxoQPY7Wwnewh4ytEMx6U9qo77_koEtzAWpITvHfPsp71E04RzbmFwwIN0Y3CCdl8',\n",
       " 'ip': '127.0.0.1',\n",
       " 'ports': AttributeDict({'discovery': 0, 'listener': 30303}),\n",
       " 'listenAddr': '[::]:30303',\n",
       " 'protocols': AttributeDict({'eth': AttributeDict({'network': 20240101,\n",
       "   'difficulty': 1,\n",
       "   'genesis': '0x6bec1279ca6efde179db76897011152e3b1d4c89f11298b501a501511fa016b8',\n",
       "   'config': AttributeDict({'chainId': 20240101,\n",
       "    'homesteadBlock': 0,\n",
       "    'eip150Block': 0,\n",
       "    'eip150Hash': '0x0000000000000000000000000000000000000000000000000000000000000000',\n",
       "    'eip155Block': 0,\n",
       "    'eip158Block': 0,\n",
       "    'byzantiumBlock': 0,\n",
       "    'constantinopleBlock': 0,\n",
       "    'petersburgBlock': 0,\n",
       "    'istanbulBlock': 0,\n",
       "    'berlinBlock': 0,\n",
       "    'clique': AttributeDict({'period': 12, 'epoch': 30000})}),\n",
       "   'head': '0x6bec1279ca6efde179db76897011152e3b1d4c89f11298b501a501511fa016b8'}),\n",
       "  'snap': AttributeDict({})})})"
      ]
     },
     "execution_count": 2,
     "metadata": {},
     "output_type": "execute_result"
    }
   ],
   "source": [
    "w3.geth.admin.node_info()"
   ]
  },
  {
   "cell_type": "code",
   "execution_count": 3,
   "metadata": {},
   "outputs": [
    {
     "data": {
      "text/plain": [
       "'Geth/bob/v1.10.3-stable-991384a7/linux-amd64/go1.21.5'"
      ]
     },
     "execution_count": 3,
     "metadata": {},
     "output_type": "execute_result"
    }
   ],
   "source": [
    "# display the client version of the node we are connected to\n",
    "w3.client_version"
   ]
  },
  {
   "cell_type": "code",
   "execution_count": 4,
   "metadata": {},
   "outputs": [
    {
     "data": {
      "text/plain": [
       "'20240101'"
      ]
     },
     "execution_count": 4,
     "metadata": {},
     "output_type": "execute_result"
    }
   ],
   "source": [
    "# display network ID of client you are connected to\n",
    "w3.net.version"
   ]
  },
  {
   "cell_type": "code",
   "execution_count": 5,
   "metadata": {},
   "outputs": [
    {
     "data": {
      "text/plain": [
       "20240101"
      ]
     },
     "execution_count": 5,
     "metadata": {},
     "output_type": "execute_result"
    }
   ],
   "source": [
    "w3.eth.chain_id"
   ]
  },
  {
   "cell_type": "code",
   "execution_count": 6,
   "metadata": {},
   "outputs": [
    {
     "data": {
      "text/plain": [
       "0"
      ]
     },
     "execution_count": 6,
     "metadata": {},
     "output_type": "execute_result"
    }
   ],
   "source": [
    "# Display number of connected peers should be 1\n",
    "w3.net.peer_count"
   ]
  },
  {
   "cell_type": "code",
   "execution_count": 7,
   "metadata": {},
   "outputs": [
    {
     "data": {
      "text/plain": [
       "False"
      ]
     },
     "execution_count": 7,
     "metadata": {},
     "output_type": "execute_result"
    }
   ],
   "source": [
    "# check if node is \"up-to-date\" with blockchain, \n",
    "# i.e., not syncing anymore\n",
    "w3.eth.syncing"
   ]
  },
  {
   "cell_type": "code",
   "execution_count": 8,
   "metadata": {
    "scrolled": true
   },
   "outputs": [
    {
     "data": {
      "text/plain": [
       "False"
      ]
     },
     "execution_count": 8,
     "metadata": {},
     "output_type": "execute_result"
    }
   ],
   "source": [
    "w3.eth.mining"
   ]
  },
  {
   "cell_type": "markdown",
   "metadata": {},
   "source": [
    "## Connect to enode with IP"
   ]
  },
  {
   "cell_type": "markdown",
   "metadata": {},
   "source": [
    "To connect to a geth node a `enode` ulr is required. This contains a public key of this node as well as its domain name (or IP) and prot. "
   ]
  },
  {
   "cell_type": "markdown",
   "metadata": {},
   "source": [
    "The enode of our server is: \n",
    "`enode://fd90f39e40633934f1613ab08bd4917d3aa28abba28cc4748b544650cfffe1ab40890f4a9d85ca9c0cf28845633291ca06a5716b86f5232b32374b82e2e3cff6@eth-smart.secenv:30303?discport=0`"
   ]
  },
  {
   "cell_type": "code",
   "execution_count": 9,
   "metadata": {},
   "outputs": [],
   "source": [
    "enode = \"enode://fd90f39e40633934f1613ab08bd4917d3aa28abba28cc4748b544650cfffe1ab40890f4a9d85ca9c0cf28845633291ca06a5716b86f5232b32374b82e2e3cff6@eth-smart.secenv:30303?discport=0\""
   ]
  },
  {
   "cell_type": "code",
   "execution_count": 10,
   "metadata": {},
   "outputs": [],
   "source": [
    "#enode = \"enode://fd90f39e40633934f1613ab08bd4917d3aa28abba28cc4748b544650cfffe1ab40890f4a9d85ca9c0cf28845633291ca06a5716b86f5232b32374b82e2e3cff6@10.81.0.38:30303?discport=0\""
   ]
  },
  {
   "cell_type": "code",
   "execution_count": 11,
   "metadata": {},
   "outputs": [
    {
     "data": {
      "text/plain": [
       "True"
      ]
     },
     "execution_count": 11,
     "metadata": {},
     "output_type": "execute_result"
    }
   ],
   "source": [
    "w3.geth.admin.add_peer(enode)"
   ]
  },
  {
   "cell_type": "code",
   "execution_count": 12,
   "metadata": {},
   "outputs": [
    {
     "data": {
      "text/plain": [
       "1"
      ]
     },
     "execution_count": 12,
     "metadata": {},
     "output_type": "execute_result"
    }
   ],
   "source": [
    "w3.net.peer_count"
   ]
  },
  {
   "cell_type": "code",
   "execution_count": 13,
   "metadata": {},
   "outputs": [
    {
     "data": {
      "text/plain": [
       "[AttributeDict({'enode': 'enode://fd90f39e40633934f1613ab08bd4917d3aa28abba28cc4748b544650cfffe1ab40890f4a9d85ca9c0cf28845633291ca06a5716b86f5232b32374b82e2e3cff6@10.81.0.38:30303?discport=0',\n",
       "  'id': '2af0d687348cffa0a8d8e827abd4e1e5f2c68e4beca2dfaa768856a9dbba522e',\n",
       "  'name': 'Geth/alice/v1.10.3-stable-991384a7/linux-amd64/go1.21.5',\n",
       "  'caps': ['eth/65', 'eth/66', 'snap/1'],\n",
       "  'network': AttributeDict({'localAddress': '172.22.0.4:45678',\n",
       "   'remoteAddress': '10.81.0.38:30303',\n",
       "   'inbound': False,\n",
       "   'trusted': False,\n",
       "   'static': True}),\n",
       "  'protocols': AttributeDict({'eth': AttributeDict({'version': 66,\n",
       "    'difficulty': 721,\n",
       "    'head': '0x541ae28b8298d48d07b8ff02156e18c45756aa7522ed789b6302087d187cae47'}),\n",
       "   'snap': AttributeDict({'version': 1})})})]"
      ]
     },
     "execution_count": 13,
     "metadata": {},
     "output_type": "execute_result"
    }
   ],
   "source": [
    "w3.geth.admin.peers()"
   ]
  },
  {
   "cell_type": "markdown",
   "metadata": {},
   "source": [
    "To manually extract the enode from a running geth node, cat the `nodekey` file which contains the private key  and use the `bootnode` tool to generate the associated public key, i.e., enode. (see )\n",
    "\n",
    "```bash\n",
    "$ cat $DATADIR/geth/nodekey\n",
    "$ bootnode -nodekeyhex $(cat $DATADIR/geth/nodekey) -writeaddress\n",
    "```"
   ]
  },
  {
   "cell_type": "code",
   "execution_count": 14,
   "metadata": {},
   "outputs": [
    {
     "data": {
      "text/plain": [
       "AttributeDict({'currentBlock': 0,\n",
       " 'highestBlock': 360,\n",
       " 'knownStates': 1,\n",
       " 'pulledStates': 0,\n",
       " 'startingBlock': 0})"
      ]
     },
     "execution_count": 14,
     "metadata": {},
     "output_type": "execute_result"
    }
   ],
   "source": [
    "w3.eth.syncing"
   ]
  },
  {
   "cell_type": "markdown",
   "metadata": {},
   "source": [
    "## Blocks"
   ]
  },
  {
   "cell_type": "code",
   "execution_count": 51,
   "metadata": {},
   "outputs": [
    {
     "data": {
      "text/plain": [
       "0"
      ]
     },
     "execution_count": 51,
     "metadata": {},
     "output_type": "execute_result"
    }
   ],
   "source": [
    "# return current blockchain head of node\n",
    "w3.eth.block_number"
   ]
  },
  {
   "cell_type": "code",
   "execution_count": 48,
   "metadata": {},
   "outputs": [
    {
     "data": {
      "text/plain": [
       "0"
      ]
     },
     "execution_count": 48,
     "metadata": {},
     "output_type": "execute_result"
    }
   ],
   "source": [
    "# should be greater\n",
    "!sleep 16\n",
    "w3.eth.block_number"
   ]
  },
  {
   "cell_type": "code",
   "execution_count": 20,
   "metadata": {},
   "outputs": [
    {
     "data": {
      "text/plain": [
       "AttributeDict({'difficulty': 1,\n",
       " 'proofOfAuthorityData': HexBytes('0x0000000000000000000000000000000000000000000000000000000000000000f78342e0cdb2188e3b5c9663b1c6d6d5af68bc970000000000000000000000000000000000000000000000000000000000000000000000000000000000000000000000000000000000000000000000000000000000'),\n",
       " 'gasLimit': 15000000,\n",
       " 'gasUsed': 0,\n",
       " 'hash': HexBytes('0x6bec1279ca6efde179db76897011152e3b1d4c89f11298b501a501511fa016b8'),\n",
       " 'logsBloom': HexBytes('0x00000000000000000000000000000000000000000000000000000000000000000000000000000000000000000000000000000000000000000000000000000000000000000000000000000000000000000000000000000000000000000000000000000000000000000000000000000000000000000000000000000000000000000000000000000000000000000000000000000000000000000000000000000000000000000000000000000000000000000000000000000000000000000000000000000000000000000000000000000000000000000000000000000000000000000000000000000000000000000000000000000000000000000000000000000000'),\n",
       " 'miner': '0x0000000000000000000000000000000000000000',\n",
       " 'mixHash': HexBytes('0x0000000000000000000000000000000000000000000000000000000000000000'),\n",
       " 'nonce': HexBytes('0x0000000000000000'),\n",
       " 'number': 0,\n",
       " 'parentHash': HexBytes('0x0000000000000000000000000000000000000000000000000000000000000000'),\n",
       " 'receiptsRoot': HexBytes('0x56e81f171bcc55a6ff8345e692c0f86e5b48e01b996cadc001622fb5e363b421'),\n",
       " 'sha3Uncles': HexBytes('0x1dcc4de8dec75d7aab85b567b6ccd41ad312451b948a7413f0a142fd40d49347'),\n",
       " 'size': 626,\n",
       " 'stateRoot': HexBytes('0x722a93bfdc34bd72e4f0177428465c1fc9fee96a41808689e63556f84508bfd5'),\n",
       " 'timestamp': 1582023590,\n",
       " 'totalDifficulty': 1,\n",
       " 'transactions': [],\n",
       " 'transactionsRoot': HexBytes('0x56e81f171bcc55a6ff8345e692c0f86e5b48e01b996cadc001622fb5e363b421'),\n",
       " 'uncles': []})"
      ]
     },
     "execution_count": 20,
     "metadata": {},
     "output_type": "execute_result"
    }
   ],
   "source": [
    "# block 0 ist the genesis block of this testnet blockchain\n",
    "genesis_block = w3.eth.get_block(0)\n",
    "genesis_block"
   ]
  },
  {
   "cell_type": "markdown",
   "metadata": {},
   "source": [
    "As you see, the genesis block is special as it is the only block with no parent hash:"
   ]
  },
  {
   "cell_type": "code",
   "execution_count": 21,
   "metadata": {},
   "outputs": [
    {
     "data": {
      "text/plain": [
       "0"
      ]
     },
     "execution_count": 21,
     "metadata": {},
     "output_type": "execute_result"
    }
   ],
   "source": [
    "genesis_block['number']"
   ]
  },
  {
   "cell_type": "code",
   "execution_count": 22,
   "metadata": {},
   "outputs": [
    {
     "data": {
      "text/plain": [
       "HexBytes('0x0000000000000000000000000000000000000000000000000000000000000000')"
      ]
     },
     "execution_count": 22,
     "metadata": {},
     "output_type": "execute_result"
    }
   ],
   "source": [
    "genesis_block['parentHash']"
   ]
  },
  {
   "cell_type": "markdown",
   "metadata": {},
   "source": [
    "The [genesis.json](../genesis_config/go-ethereum/berlin/genesis.json) file shows the node(s) that are allowed to mine blocks and the accounts that have been seeded with coins. \n",
    "The client we are currently connected to is not part of the PoA nodes that are allowed to create new blocks:"
   ]
  },
  {
   "cell_type": "markdown",
   "metadata": {},
   "source": [
    "## Accounts and balances"
   ]
  },
  {
   "cell_type": "markdown",
   "metadata": {},
   "source": [
    "Accounts are your **external accounts** consisting of public and private keys. \n",
    "The ethereum address are the last 40 hex characters (20 bytes) of the hash (Keccak-256) of the public key prefixed with `0x`\n",
    "\n",
    "For the exercise you will recieve your personal account keypair which you have to copy in your `geth` folder to import it. "
   ]
  },
  {
   "cell_type": "code",
   "execution_count": 29,
   "metadata": {},
   "outputs": [
    {
     "name": "stdout",
     "output_type": "stream",
     "text": [
      "/smartenv\n"
     ]
    }
   ],
   "source": [
    "!pwd"
   ]
  },
  {
   "cell_type": "code",
   "execution_count": 31,
   "metadata": {},
   "outputs": [
    {
     "name": "stdout",
     "output_type": "stream",
     "text": [
      "Containerfile  requirements.txt  sccc.ipynb  venv\n",
      "entrypoint.sh  sccc-anvil.ipynb  test.ipynb\n"
     ]
    }
   ],
   "source": [
    "!ls "
   ]
  },
  {
   "cell_type": "code",
   "execution_count": 25,
   "metadata": {},
   "outputs": [],
   "source": [
    "DATADIR_PATH = \"/smartenv/datadir/\""
   ]
  },
  {
   "cell_type": "code",
   "execution_count": 30,
   "metadata": {},
   "outputs": [
    {
     "name": "stdout",
     "output_type": "stream",
     "text": [
      "ls: cannot access '/smartenv/datadir/bob/keystore': No such file or directory\n"
     ]
    }
   ],
   "source": [
    "!ls {DATADIR_PATH}bob/keystore"
   ]
  },
  {
   "cell_type": "code",
   "execution_count": 32,
   "metadata": {},
   "outputs": [
    {
     "data": {
      "text/plain": [
       "['0xe884e188beD351dC094105b22C9752157656a57b']"
      ]
     },
     "execution_count": 32,
     "metadata": {},
     "output_type": "execute_result"
    }
   ],
   "source": [
    "w3.eth.accounts"
   ]
  },
  {
   "cell_type": "markdown",
   "metadata": {},
   "source": [
    "The default address (also used to receive rewards from mining blocks) is usually the first in the list of accounts and usually also accessible via `w3.eth.coinbase`. It is good practise to specifically assing a `default_account` some functions might cause problems if this is not explicitly assigned."
   ]
  },
  {
   "cell_type": "code",
   "execution_count": 51,
   "metadata": {},
   "outputs": [
    {
     "data": {
      "text/plain": [
       "'0xa1273F73C607Bd0af4D2916f4C9e6A550581dCA6'"
      ]
     },
     "execution_count": 51,
     "metadata": {},
     "output_type": "execute_result"
    }
   ],
   "source": [
    "assert w3.eth.accounts[0] == w3.eth.coinbase\n",
    "w3.eth.default_account = w3.eth.accounts[0]\n",
    "w3.eth.default_account "
   ]
  },
  {
   "cell_type": "code",
   "execution_count": 52,
   "metadata": {},
   "outputs": [],
   "source": [
    "def getBalance(address):\n",
    "    return w3.fromWei(w3.eth.getBalance(address),'ether')"
   ]
  },
  {
   "cell_type": "code",
   "execution_count": 55,
   "metadata": {},
   "outputs": [
    {
     "data": {
      "text/plain": [
       "Decimal('999998.999979')"
      ]
     },
     "execution_count": 55,
     "metadata": {},
     "output_type": "execute_result"
    }
   ],
   "source": [
    "initial_balance = getBalance(w3.eth.accounts[0]) \n",
    "assert initial_balance > 0 \n",
    "initial_balance"
   ]
  },
  {
   "cell_type": "markdown",
   "metadata": {},
   "source": [
    "### Create New Account"
   ]
  },
  {
   "cell_type": "markdown",
   "metadata": {},
   "source": [
    "Create a new account with no password:"
   ]
  },
  {
   "cell_type": "code",
   "execution_count": 56,
   "metadata": {},
   "outputs": [
    {
     "name": "stdout",
     "output_type": "stream",
     "text": [
      "\u001b[32mINFO \u001b[0m[06-16|12:08:45.091] Maximum peer count                       \u001b[32mETH\u001b[0m=0 \u001b[32mLES\u001b[0m=0 \u001b[32mtotal\u001b[0m=0\n",
      "\u001b[32mINFO \u001b[0m[06-16|12:08:45.091] Smartcard socket not found, disabling    \u001b[32merr\u001b[0m=\"stat /run/pcscd/pcscd.comm: no such file or directory\"\n",
      "\n",
      "Your new key was generated\n",
      "\n",
      "Public address of the key:   0x782FEdd38Bd647fcb825cEDb39Af0b2ee27cA49E\n",
      "Path of the secret key file: /smartenv/datadir/bob/keystore/UTC--2021-06-16T10-08-45.091849684Z--782fedd38bd647fcb825cedb39af0b2ee27ca49e\n",
      "\n",
      "- You can share your public address with anyone. Others need it to interact with you.\n",
      "- You must NEVER share the secret key with anyone! The key controls access to your funds!\n",
      "- You must BACKUP your key file! Without the key, it's impossible to access account funds!\n",
      "- You must REMEMBER your password! Without the password, it's impossible to decrypt the key!\n",
      "\n"
     ]
    }
   ],
   "source": [
    "!geth --maxpeers 0 --datadir={DATADIR_PATH}/bob/ --password=/dev/null account new"
   ]
  },
  {
   "cell_type": "markdown",
   "metadata": {},
   "source": [
    "It requires some time till geth picks up the new key:"
   ]
  },
  {
   "cell_type": "code",
   "execution_count": 57,
   "metadata": {},
   "outputs": [],
   "source": [
    "!sleep 5"
   ]
  },
  {
   "cell_type": "code",
   "execution_count": 58,
   "metadata": {},
   "outputs": [
    {
     "data": {
      "text/plain": [
       "['0xa1273F73C607Bd0af4D2916f4C9e6A550581dCA6',\n",
       " '0x782FEdd38Bd647fcb825cEDb39Af0b2ee27cA49E']"
      ]
     },
     "execution_count": 58,
     "metadata": {},
     "output_type": "execute_result"
    }
   ],
   "source": [
    "w3.eth.accounts"
   ]
  },
  {
   "cell_type": "markdown",
   "metadata": {},
   "source": [
    "## Payment Transaction and Gas"
   ]
  },
  {
   "cell_type": "markdown",
   "metadata": {},
   "source": [
    "**Note:** When connected to `geth` or `parity` you have to unlock an account first to send a transaction since the private keys are stored encrypted per default and protected with a password. In `ganache` this is not necessary since it is a development environment.\n",
    "\n",
    "Per default unlocking an account via HTTP is not allowed in `geth` so this has to be explicitly activated \n",
    "with `--allow-insecure-unlock` when starting `geth`. Do not use this flag in production! "
   ]
  },
  {
   "cell_type": "code",
   "execution_count": 59,
   "metadata": {},
   "outputs": [
    {
     "data": {
      "text/plain": [
       "True"
      ]
     },
     "execution_count": 59,
     "metadata": {},
     "output_type": "execute_result"
    }
   ],
   "source": [
    "# Parameters are:\n",
    "# * account\n",
    "# * password\n",
    "# * duration of unlock (if 0 then forever)\n",
    "w3.geth.personal.unlockAccount(w3.eth.accounts[0],\"notforproductiveuse\",0)"
   ]
  },
  {
   "cell_type": "raw",
   "metadata": {},
   "source": [
    "# old general way now client may be different.\n",
    "w3.personal.unlockAccount(w3.eth.accounts[0],\"\",0)"
   ]
  },
  {
   "cell_type": "code",
   "execution_count": 60,
   "metadata": {},
   "outputs": [
    {
     "data": {
      "text/plain": [
       "42590"
      ]
     },
     "execution_count": 60,
     "metadata": {},
     "output_type": "execute_result"
    }
   ],
   "source": [
    "blkNumber_before = w3.eth.blockNumber\n",
    "blkNumber_before"
   ]
  },
  {
   "cell_type": "code",
   "execution_count": 61,
   "metadata": {},
   "outputs": [
    {
     "data": {
      "text/plain": [
       "HexBytes('0x7961f9ac7455bab5fbd34d409e055f3066b5ad5041cdeb1af5e536dbad7aa6bc')"
      ]
     },
     "execution_count": 61,
     "metadata": {},
     "output_type": "execute_result"
    }
   ],
   "source": [
    "w3.eth.sendTransaction({'from':w3.eth.accounts[0], \n",
    "                        'to':w3.eth.accounts[1], \n",
    "                        'value':10**18})"
   ]
  },
  {
   "cell_type": "code",
   "execution_count": 62,
   "metadata": {},
   "outputs": [
    {
     "data": {
      "text/plain": [
       "42591"
      ]
     },
     "execution_count": 62,
     "metadata": {},
     "output_type": "execute_result"
    }
   ],
   "source": [
    "!sleep 16\n",
    "blkNumber_after = w3.eth.blockNumber\n",
    "assert blkNumber_before < blkNumber_after\n",
    "blkNumber_after"
   ]
  },
  {
   "cell_type": "code",
   "execution_count": 63,
   "metadata": {},
   "outputs": [
    {
     "data": {
      "text/plain": [
       "Decimal('999997.999958')"
      ]
     },
     "execution_count": 63,
     "metadata": {},
     "output_type": "execute_result"
    }
   ],
   "source": [
    "# the balance is reduced by more than 1 ether\n",
    "# Why do you think this is the case?\n",
    "getBalance(w3.eth.accounts[0])"
   ]
  },
  {
   "cell_type": "code",
   "execution_count": 69,
   "metadata": {},
   "outputs": [
    {
     "data": {
      "text/plain": [
       "1"
      ]
     },
     "execution_count": 69,
     "metadata": {},
     "output_type": "execute_result"
    }
   ],
   "source": [
    "new_account_balance = getBalance(w3.eth.accounts[1])\n",
    "assert int(new_account_balance) == 1\n",
    "int(new_account_balance)"
   ]
  },
  {
   "cell_type": "code",
   "execution_count": 70,
   "metadata": {},
   "outputs": [
    {
     "data": {
      "text/plain": [
       "AttributeDict({'blockHash': HexBytes('0x63bd35ec9cd40da2800e2b9593c5aa0af514d13bf436ca716e5674d4dec7a7f5'),\n",
       " 'blockNumber': 42591,\n",
       " 'from': '0xa1273F73C607Bd0af4D2916f4C9e6A550581dCA6',\n",
       " 'gas': 121000,\n",
       " 'gasPrice': 1000000000,\n",
       " 'hash': HexBytes('0x7961f9ac7455bab5fbd34d409e055f3066b5ad5041cdeb1af5e536dbad7aa6bc'),\n",
       " 'input': '0x',\n",
       " 'nonce': 1,\n",
       " 'to': '0x782FEdd38Bd647fcb825cEDb39Af0b2ee27cA49E',\n",
       " 'transactionIndex': 0,\n",
       " 'value': 1000000000000000000,\n",
       " 'type': '0x0',\n",
       " 'v': 2709,\n",
       " 'r': HexBytes('0x4e28aaa8cca628b7cddf041d887642195b152def3a9ea1bd96a1e3872dcb269f'),\n",
       " 's': HexBytes('0x3c0bafa0b1617a782bd8b0fc63a8da8664f3dd869fa8b6237c9110fbd8857177')})"
      ]
     },
     "execution_count": 70,
     "metadata": {},
     "output_type": "execute_result"
    }
   ],
   "source": [
    "# get first (and only) transaction in the previously mined block\n",
    "tx = w3.eth.getTransactionByBlock(blkNumber_before + 1,0)\n",
    "tx "
   ]
  },
  {
   "cell_type": "code",
   "execution_count": 71,
   "metadata": {},
   "outputs": [
    {
     "data": {
      "text/plain": [
       "AttributeDict({'difficulty': 2,\n",
       " 'proofOfAuthorityData': HexBytes('0xd883010a04846765746888676f312e31352e34856c696e757800000000000000eb2331c32c7c3a1e71735f0584b41e098872549acd3b79fb61adb6f013e8d2ca73d57fa89314c06e9f121c3fc1877ec8fdd5f25209536f5efbad099e510a568901'),\n",
       " 'gasLimit': 8000000,\n",
       " 'gasUsed': 21000,\n",
       " 'hash': HexBytes('0x63bd35ec9cd40da2800e2b9593c5aa0af514d13bf436ca716e5674d4dec7a7f5'),\n",
       " 'logsBloom': HexBytes('0x00000000000000000000000000000000000000000000000000000000000000000000000000000000000000000000000000000000000000000000000000000000000000000000000000000000000000000000000000000000000000000000000000000000000000000000000000000000000000000000000000000000000000000000000000000000000000000000000000000000000000000000000000000000000000000000000000000000000000000000000000000000000000000000000000000000000000000000000000000000000000000000000000000000000000000000000000000000000000000000000000000000000000000000000000000000'),\n",
       " 'miner': '0x0000000000000000000000000000000000000000',\n",
       " 'mixHash': HexBytes('0x0000000000000000000000000000000000000000000000000000000000000000'),\n",
       " 'nonce': HexBytes('0x0000000000000000'),\n",
       " 'number': 42591,\n",
       " 'parentHash': HexBytes('0xd9ef5980f0355bee7fe1b0c63767e8739b2125685678554f5e17fb543b569c76'),\n",
       " 'receiptsRoot': HexBytes('0x056b23fbba480696b65fe5a59b8f2148a1299103c4f57df839233af2cf4ca2d2'),\n",
       " 'sha3Uncles': HexBytes('0x1dcc4de8dec75d7aab85b567b6ccd41ad312451b948a7413f0a142fd40d49347'),\n",
       " 'size': 723,\n",
       " 'stateRoot': HexBytes('0x5a8a0f753d4bf8322700aa57f0106640f5bafa064e26da5223e3e290ddac56d2'),\n",
       " 'timestamp': 1623838151,\n",
       " 'totalDifficulty': 85183,\n",
       " 'transactions': [HexBytes('0x7961f9ac7455bab5fbd34d409e055f3066b5ad5041cdeb1af5e536dbad7aa6bc')],\n",
       " 'transactionsRoot': HexBytes('0x9bb999bfc8566d391235073546f9d8f0079f854fdf12c528e8b18e89af94ffb9'),\n",
       " 'uncles': []})"
      ]
     },
     "execution_count": 71,
     "metadata": {},
     "output_type": "execute_result"
    }
   ],
   "source": [
    "# get block and see the transaction id and gas used below\n",
    "blk = w3.eth.getBlock(blkNumber_before + 1)\n",
    "blk"
   ]
  },
  {
   "cell_type": "code",
   "execution_count": 72,
   "metadata": {},
   "outputs": [
    {
     "data": {
      "text/plain": [
       "'0x7961f9ac7455bab5fbd34d409e055f3066b5ad5041cdeb1af5e536dbad7aa6bc'"
      ]
     },
     "execution_count": 72,
     "metadata": {},
     "output_type": "execute_result"
    }
   ],
   "source": [
    "# get the transaction ID of the first (and only) transaction in the block\n",
    "blk[\"transactions\"][0].hex()"
   ]
  },
  {
   "cell_type": "code",
   "execution_count": 73,
   "metadata": {},
   "outputs": [
    {
     "data": {
      "text/plain": [
       "'0x7961f9ac7455bab5fbd34d409e055f3066b5ad5041cdeb1af5e536dbad7aa6bc'"
      ]
     },
     "execution_count": 73,
     "metadata": {},
     "output_type": "execute_result"
    }
   ],
   "source": [
    "tx[\"hash\"].hex() # hash of the transaction"
   ]
  },
  {
   "cell_type": "code",
   "execution_count": 74,
   "metadata": {},
   "outputs": [
    {
     "data": {
      "text/plain": [
       "AttributeDict({'blockHash': HexBytes('0x63bd35ec9cd40da2800e2b9593c5aa0af514d13bf436ca716e5674d4dec7a7f5'),\n",
       " 'blockNumber': 42591,\n",
       " 'from': '0xa1273F73C607Bd0af4D2916f4C9e6A550581dCA6',\n",
       " 'gas': 121000,\n",
       " 'gasPrice': 1000000000,\n",
       " 'hash': HexBytes('0x7961f9ac7455bab5fbd34d409e055f3066b5ad5041cdeb1af5e536dbad7aa6bc'),\n",
       " 'input': '0x',\n",
       " 'nonce': 1,\n",
       " 'to': '0x782FEdd38Bd647fcb825cEDb39Af0b2ee27cA49E',\n",
       " 'transactionIndex': 0,\n",
       " 'value': 1000000000000000000,\n",
       " 'type': '0x0',\n",
       " 'v': 2709,\n",
       " 'r': HexBytes('0x4e28aaa8cca628b7cddf041d887642195b152def3a9ea1bd96a1e3872dcb269f'),\n",
       " 's': HexBytes('0x3c0bafa0b1617a782bd8b0fc63a8da8664f3dd869fa8b6237c9110fbd8857177')})"
      ]
     },
     "execution_count": 74,
     "metadata": {},
     "output_type": "execute_result"
    }
   ],
   "source": [
    "# Query the transaction by ID, also possible\n",
    "w3.eth.getTransaction(blk[\"transactions\"][0].hex())"
   ]
  },
  {
   "cell_type": "code",
   "execution_count": 75,
   "metadata": {},
   "outputs": [
    {
     "data": {
      "text/plain": [
       "21000"
      ]
     },
     "execution_count": 75,
     "metadata": {},
     "output_type": "execute_result"
    }
   ],
   "source": [
    "gasUsed = blk[\"gasUsed\"] # gas used within block\n",
    "gasUsed"
   ]
  },
  {
   "cell_type": "code",
   "execution_count": 76,
   "metadata": {},
   "outputs": [
    {
     "data": {
      "text/plain": [
       "21000"
      ]
     },
     "execution_count": 76,
     "metadata": {},
     "output_type": "execute_result"
    }
   ],
   "source": [
    "# estimate the gas price of an transaction without executing it\n",
    "w3.eth.estimateGas({'from':w3.eth.accounts[0], \n",
    "                    'to':w3.eth.accounts[1], \n",
    "                    'value':10**18})"
   ]
  },
  {
   "cell_type": "markdown",
   "metadata": {},
   "source": [
    "The estimate yields the same result as the actual gas cost. \n",
    "Can this be different?"
   ]
  },
  {
   "cell_type": "code",
   "execution_count": 77,
   "metadata": {},
   "outputs": [
    {
     "data": {
      "text/plain": [
       "1000000000"
      ]
     },
     "execution_count": 77,
     "metadata": {},
     "output_type": "execute_result"
    }
   ],
   "source": [
    "gasPrice = tx[\"gasPrice\"] # The actual gas price attached to the tx\n",
    "gasPrice"
   ]
  },
  {
   "cell_type": "code",
   "execution_count": 78,
   "metadata": {},
   "outputs": [],
   "source": [
    "# conversion between gas and ether specified per transaction\n",
    "# i.e., how much wei a transaction is willing to pay for \n",
    "assert gasPrice == w3.eth.gasPrice # default value"
   ]
  },
  {
   "cell_type": "code",
   "execution_count": 79,
   "metadata": {},
   "outputs": [
    {
     "data": {
      "text/plain": [
       "2.1000000000000002e-05"
      ]
     },
     "execution_count": 79,
     "metadata": {},
     "output_type": "execute_result"
    }
   ],
   "source": [
    "# gasUsed(by the transaction) * gasPrice(specified in tx)\n",
    "# gives the wei it costs to send it \n",
    "# times 10^18 gives the ether\n",
    "tx_costs = (gasUsed * gasPrice) * 10**-18\n",
    "tx_costs "
   ]
  },
  {
   "cell_type": "markdown",
   "metadata": {},
   "source": [
    "This is exaclty the missing cost on the sender side: "
   ]
  },
  {
   "cell_type": "code",
   "execution_count": 80,
   "metadata": {},
   "outputs": [
    {
     "data": {
      "text/plain": [
       "999997.999958"
      ]
     },
     "execution_count": 80,
     "metadata": {},
     "output_type": "execute_result"
    }
   ],
   "source": [
    "float(getBalance(w3.eth.accounts[0]))"
   ]
  },
  {
   "cell_type": "code",
   "execution_count": 81,
   "metadata": {},
   "outputs": [
    {
     "data": {
      "text/plain": [
       "999997.9999790001"
      ]
     },
     "execution_count": 81,
     "metadata": {},
     "output_type": "execute_result"
    }
   ],
   "source": [
    "float(getBalance(w3.eth.accounts[0])) + tx_costs"
   ]
  },
  {
   "cell_type": "markdown",
   "metadata": {},
   "source": [
    "# TODO"
   ]
  },
  {
   "cell_type": "code",
   "execution_count": 2,
   "metadata": {},
   "outputs": [
    {
     "data": {
      "text/plain": [
       "'/challenges/notawallet/'"
      ]
     },
     "execution_count": 2,
     "metadata": {},
     "output_type": "execute_result"
    }
   ],
   "source": [
    "'/challenges/notawallet/'"
   ]
  },
  {
   "cell_type": "code",
   "execution_count": 1,
   "metadata": {},
   "outputs": [
    {
     "name": "stdout",
     "output_type": "stream",
     "text": [
      "solc, the solidity compiler commandline interface\n",
      "Version: 0.8.23+commit.f704f362.Linux.g++\n"
     ]
    }
   ],
   "source": [
    "!solc --version"
   ]
  },
  {
   "cell_type": "code",
   "execution_count": 4,
   "metadata": {},
   "outputs": [
    {
     "data": {
      "text/plain": [
       "'/smartenv'"
      ]
     },
     "execution_count": 4,
     "metadata": {},
     "output_type": "execute_result"
    }
   ],
   "source": [
    "%pwd"
   ]
  },
  {
   "cell_type": "code",
   "execution_count": 5,
   "metadata": {},
   "outputs": [],
   "source": [
    "import util"
   ]
  },
  {
   "cell_type": "code",
   "execution_count": 10,
   "metadata": {},
   "outputs": [],
   "source": [
    "SMARTENV_PATH = \"/smartenv/\"\n",
    "GEN_CONFIG_PATH = \"/setup/generated_config/\"\n",
    "GLOBAL_INFO_PATH = GEN_CONFIG_PATH + \"/global_info/\"\n",
    "GENESIS_JSON = \"/setup/genesis_config/go-ethereum/berlin/genesis.json\"\n",
    "\n",
    "PARTICIPANTS_PATH = \"/students/\"\n",
    "PARTICIPANTS_CSV = PARTICIPANTS_PATH + \"list.csv\"\n",
    "PP_CSV = PARTICIPANTS_CSV\n",
    "\n",
    "SCRIPTS_PATH = \"/smartenv/util/scripts/\"\n",
    "CHALLENGES_PATH = \"/challenges/\"\n",
    "CHL_NOTAWALLET_PATH = \"/challenges/notawallet/\""
   ]
  },
  {
   "cell_type": "code",
   "execution_count": 11,
   "metadata": {},
   "outputs": [],
   "source": [
    "SRVIP = \"gethcnt\"\n",
    "SRVPORT = \"8545\"\n",
    "SRVCHAINID = \"20240101\" # CHANGE THIS IS UPDATED!\n",
    "SRVNETVER = SRVCHAINID"
   ]
  },
  {
   "cell_type": "code",
   "execution_count": 12,
   "metadata": {},
   "outputs": [],
   "source": [
    "## Connections refresh maybe needed\n",
    "w3=util.connect(host=SRVIP,port=SRVPORT,poa=True) \n",
    "assert w3.is_connected()"
   ]
  },
  {
   "cell_type": "code",
   "execution_count": 43,
   "metadata": {},
   "outputs": [
    {
     "name": "stdout",
     "output_type": "stream",
     "text": [
      "// SPDX-License-Identifier: MIT\n",
      "/**\n",
      "\n",
      "Look Mom, I coded my first wallet contract to learn solidity!\n",
      "It even supports multiple owners!\n",
      "\n",
      "**/\n",
      "\n",
      "pragma solidity 0.8.19;\n",
      "\n",
      "contract NotAWallet{\n",
      "\n",
      "\taddress public owner;\n",
      "    address public student;\n",
      "    mapping (address => bool) owners;\n",
      "   \n",
      "    constructor(address _student) payable{\n",
      "        student = _student;\n",
      "        owner = msg.sender;\n",
      "    }\n",
      "\n",
      "    function deposit() public payable  { \n",
      "        // recieve coins\n",
      "    }   \n",
      "\n",
      "    function addOwner(address newowner) public {\n",
      "        require (owners[msg.sender] == true || msg.sender == owner);\n",
      "        owners[newowner] = true;\n",
      "    }   \n",
      "\n",
      "    function removeOwner(address oldowner) public rightStudent {\n",
      "        require(owners[msg.sender] = true); \n",
      "\t\t\t\towners[oldowner] = false;\n",
      "    }\n",
      "\n",
      "    function withdraw(uint256 amount) public {\n",
      "        // only owners can withdraw funds\n",
      "        require(owners[msg.sender] == true);\n",
      "        payable(msg.sender).transfer(amount);\n",
      "    }\n",
      "\n",
      "\t\tfunction isOwner(address testowner) public view returns (bool) {\n",
      "\t\t\t\tif (owners[testowner] == true) {\n",
      "\t\t\t\t\treturn true;\n",
      "\t\t\t\t} else {\n",
      "\t\t\t\t\treturn false;\n",
      "\t\t\t\t}\n",
      "\t\t}\n",
      "\n",
      "\t\t// ensure that only designated student has access to this challenge\n",
      "    modifier rightStudent() {\n",
      "        require(msg.sender == student || msg.sender == owner, \"Access dendied!\");\n",
      "        _;\n",
      "    }\n",
      "    // helper function to check if interacting with right contract\n",
      "    function getStudent() public view returns (address) {\n",
      "        return student;\n",
      "    }\n",
      "\n",
      "}\n",
      "\n"
     ]
    }
   ],
   "source": [
    "!cat {CHL_NOTAWALLET_PATH}publish/NotAWallet.sol"
   ]
  },
  {
   "cell_type": "code",
   "execution_count": 46,
   "metadata": {},
   "outputs": [
    {
     "name": "stdout",
     "output_type": "stream",
     "text": [
      "Compiler run successful. Artifact(s) can be found in directory \"/challenges/notawallet//publish/\".\n"
     ]
    }
   ],
   "source": [
    "!solc_8.19 --overwrite -o \"{CHL_NOTAWALLET_PATH}/publish/\" --abi --bin \"{CHL_NOTAWALLET_PATH}/publish/NotAWallet.sol\""
   ]
  },
  {
   "cell_type": "code",
   "execution_count": 47,
   "metadata": {},
   "outputs": [
    {
     "name": "stdout",
     "output_type": "stream",
     "text": [
      "/smartenv\n"
     ]
    }
   ],
   "source": [
    "!pwd"
   ]
  },
  {
   "cell_type": "code",
   "execution_count": 48,
   "metadata": {},
   "outputs": [
    {
     "name": "stdout",
     "output_type": "stream",
     "text": [
      "NotAWallet.abi\tNotAWallet.bin\tNotAWallet.sol\tREADME.md\n"
     ]
    }
   ],
   "source": [
    "!ls {CHL_NOTAWALLET_PATH}publish"
   ]
  },
  {
   "cell_type": "code",
   "execution_count": 49,
   "metadata": {},
   "outputs": [
    {
     "name": "stdout",
     "output_type": "stream",
     "text": [
      "[{\"inputs\":[{\"internalType\":\"address\",\"name\":\"_student\",\"type\":\"address\"}],\"stateMutability\":\"payable\",\"type\":\"constructor\"},{\"inputs\":[{\"internalType\":\"address\",\"name\":\"newowner\",\"type\":\"address\"}],\"name\":\"addOwner\",\"outputs\":[],\"stateMutability\":\"nonpayable\",\"type\":\"function\"},{\"inputs\":[],\"name\":\"deposit\",\"outputs\":[],\"stateMutability\":\"payable\",\"type\":\"function\"},{\"inputs\":[],\"name\":\"getStudent\",\"outputs\":[{\"internalType\":\"address\",\"name\":\"\",\"type\":\"address\"}],\"stateMutability\":\"view\",\"type\":\"function\"},{\"inputs\":[{\"internalType\":\"address\",\"name\":\"testowner\",\"type\":\"address\"}],\"name\":\"isOwner\",\"outputs\":[{\"internalType\":\"bool\",\"name\":\"\",\"type\":\"bool\"}],\"stateMutability\":\"view\",\"type\":\"function\"},{\"inputs\":[],\"name\":\"owner\",\"outputs\":[{\"internalType\":\"address\",\"name\":\"\",\"type\":\"address\"}],\"stateMutability\":\"view\",\"type\":\"function\"},{\"inputs\":[{\"internalType\":\"address\",\"name\":\"oldowner\",\"type\":\"address\"}],\"name\":\"removeOwner\",\"outputs\":[],\"stateMutability\":\"nonpayable\",\"type\":\"function\"},{\"inputs\":[],\"name\":\"student\",\"outputs\":[{\"internalType\":\"address\",\"name\":\"\",\"type\":\"address\"}],\"stateMutability\":\"view\",\"type\":\"function\"},{\"inputs\":[{\"internalType\":\"uint256\",\"name\":\"amount\",\"type\":\"uint256\"}],\"name\":\"withdraw\",\"outputs\":[],\"stateMutability\":\"nonpayable\",\"type\":\"function\"}]"
     ]
    }
   ],
   "source": [
    "!cat {CHL_NOTAWALLET_PATH}publish/NotAWallet.abi"
   ]
  },
  {
   "cell_type": "code",
   "execution_count": 50,
   "metadata": {},
   "outputs": [
    {
     "name": "stdout",
     "output_type": "stream",
     "text": [
      "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"
     ]
    }
   ],
   "source": [
    "!cat {CHL_NOTAWALLET_PATH}publish/NotAWallet.bin"
   ]
  },
  {
   "cell_type": "code",
   "execution_count": 51,
   "metadata": {},
   "outputs": [],
   "source": [
    "cbin = !cat {CHL_NOTAWALLET_PATH}publish/NotAWallet.bin"
   ]
  },
  {
   "cell_type": "code",
   "execution_count": 52,
   "metadata": {},
   "outputs": [],
   "source": [
    "cabi = !cat {CHL_NOTAWALLET_PATH}publish/NotAWallet.abi"
   ]
  },
  {
   "cell_type": "code",
   "execution_count": 53,
   "metadata": {},
   "outputs": [
    {
     "data": {
      "text/plain": [
       "'[{\"inputs\":[{\"internalType\":\"address\",\"name\":\"_student\",\"type\":\"address\"}],\"stateMutability\":\"payable\",\"type\":\"constructor\"},{\"inputs\":[{\"internalType\":\"address\",\"name\":\"newowner\",\"type\":\"address\"}],\"name\":\"addOwner\",\"outputs\":[],\"stateMutability\":\"nonpayable\",\"type\":\"function\"},{\"inputs\":[],\"name\":\"deposit\",\"outputs\":[],\"stateMutability\":\"payable\",\"type\":\"function\"},{\"inputs\":[],\"name\":\"getStudent\",\"outputs\":[{\"internalType\":\"address\",\"name\":\"\",\"type\":\"address\"}],\"stateMutability\":\"view\",\"type\":\"function\"},{\"inputs\":[{\"internalType\":\"address\",\"name\":\"testowner\",\"type\":\"address\"}],\"name\":\"isOwner\",\"outputs\":[{\"internalType\":\"bool\",\"name\":\"\",\"type\":\"bool\"}],\"stateMutability\":\"view\",\"type\":\"function\"},{\"inputs\":[],\"name\":\"owner\",\"outputs\":[{\"internalType\":\"address\",\"name\":\"\",\"type\":\"address\"}],\"stateMutability\":\"view\",\"type\":\"function\"},{\"inputs\":[{\"internalType\":\"address\",\"name\":\"oldowner\",\"type\":\"address\"}],\"name\":\"removeOwner\",\"outputs\":[],\"stateMutability\":\"nonpayable\",\"type\":\"function\"},{\"inputs\":[],\"name\":\"student\",\"outputs\":[{\"internalType\":\"address\",\"name\":\"\",\"type\":\"address\"}],\"stateMutability\":\"view\",\"type\":\"function\"},{\"inputs\":[{\"internalType\":\"uint256\",\"name\":\"amount\",\"type\":\"uint256\"}],\"name\":\"withdraw\",\"outputs\":[],\"stateMutability\":\"nonpayable\",\"type\":\"function\"}]'"
      ]
     },
     "execution_count": 53,
     "metadata": {},
     "output_type": "execute_result"
    }
   ],
   "source": [
    "cabi = cabi[0]\n",
    "cabi"
   ]
  },
  {
   "cell_type": "code",
   "execution_count": 54,
   "metadata": {},
   "outputs": [
    {
     "data": {
      "text/plain": [
       "'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'"
      ]
     },
     "execution_count": 54,
     "metadata": {},
     "output_type": "execute_result"
    }
   ],
   "source": [
    "cbin = cbin[0]\n",
    "cbin"
   ]
  },
  {
   "cell_type": "code",
   "execution_count": 55,
   "metadata": {},
   "outputs": [],
   "source": [
    "contract=w3.eth.contract(abi=cabi,\n",
    "                         bytecode=cbin)\n",
    "tx_hash = contract.constructor('0x53B30788b6a47261be56a851C22B155cd3b84735').transact({\"from\":w3.eth.accounts[0],})"
   ]
  },
  {
   "cell_type": "code",
   "execution_count": 56,
   "metadata": {},
   "outputs": [
    {
     "data": {
      "text/plain": [
       "HexBytes('0xfa5a9983cdd47795f7cab1f1b14e232b580d4c2e1ef5a90b6fff1106a7dd890f')"
      ]
     },
     "execution_count": 56,
     "metadata": {},
     "output_type": "execute_result"
    }
   ],
   "source": [
    "tx_hash"
   ]
  },
  {
   "cell_type": "code",
   "execution_count": 57,
   "metadata": {},
   "outputs": [
    {
     "data": {
      "text/plain": [
       "AttributeDict({'blockHash': HexBytes('0x0bb3124ae6de188b8e518056cc3bca99ffcd1b6b703e27d23fe1263c09c518a7'),\n",
       " 'blockNumber': 1318,\n",
       " 'contractAddress': '0xF5267338cBBBD0Bb48718c89E352976A9afA87dB',\n",
       " 'cumulativeGasUsed': 544586,\n",
       " 'from': '0xf78342E0cdb2188e3B5c9663b1C6D6d5AF68BC97',\n",
       " 'gasUsed': 544586,\n",
       " 'logs': [],\n",
       " 'logsBloom': HexBytes('0x00000000000000000000000000000000000000000000000000000000000000000000000000000000000000000000000000000000000000000000000000000000000000000000000000000000000000000000000000000000000000000000000000000000000000000000000000000000000000000000000000000000000000000000000000000000000000000000000000000000000000000000000000000000000000000000000000000000000000000000000000000000000000000000000000000000000000000000000000000000000000000000000000000000000000000000000000000000000000000000000000000000000000000000000000000000'),\n",
       " 'status': 1,\n",
       " 'to': None,\n",
       " 'transactionHash': HexBytes('0xfa5a9983cdd47795f7cab1f1b14e232b580d4c2e1ef5a90b6fff1106a7dd890f'),\n",
       " 'transactionIndex': 0,\n",
       " 'type': 0})"
      ]
     },
     "execution_count": 57,
     "metadata": {},
     "output_type": "execute_result"
    }
   ],
   "source": [
    "w3.eth.wait_for_transaction_receipt(tx_hash)"
   ]
  },
  {
   "cell_type": "code",
   "execution_count": 58,
   "metadata": {},
   "outputs": [
    {
     "data": {
      "text/plain": [
       "AttributeDict({'blockHash': HexBytes('0x0bb3124ae6de188b8e518056cc3bca99ffcd1b6b703e27d23fe1263c09c518a7'),\n",
       " 'blockNumber': 1318,\n",
       " 'contractAddress': '0xF5267338cBBBD0Bb48718c89E352976A9afA87dB',\n",
       " 'cumulativeGasUsed': 544586,\n",
       " 'from': '0xf78342E0cdb2188e3B5c9663b1C6D6d5AF68BC97',\n",
       " 'gasUsed': 544586,\n",
       " 'logs': [],\n",
       " 'logsBloom': HexBytes('0x00000000000000000000000000000000000000000000000000000000000000000000000000000000000000000000000000000000000000000000000000000000000000000000000000000000000000000000000000000000000000000000000000000000000000000000000000000000000000000000000000000000000000000000000000000000000000000000000000000000000000000000000000000000000000000000000000000000000000000000000000000000000000000000000000000000000000000000000000000000000000000000000000000000000000000000000000000000000000000000000000000000000000000000000000000000'),\n",
       " 'status': 1,\n",
       " 'to': None,\n",
       " 'transactionHash': HexBytes('0xfa5a9983cdd47795f7cab1f1b14e232b580d4c2e1ef5a90b6fff1106a7dd890f'),\n",
       " 'transactionIndex': 0,\n",
       " 'type': 0})"
      ]
     },
     "execution_count": 58,
     "metadata": {},
     "output_type": "execute_result"
    }
   ],
   "source": [
    "w3.eth.wait_for_transaction_receipt(tx_hash)"
   ]
  },
  {
   "cell_type": "code",
   "execution_count": null,
   "metadata": {},
   "outputs": [],
   "source": []
  }
 ],
 "metadata": {
  "kernelspec": {
   "display_name": "Python 3 (ipykernel)",
   "language": "python",
   "name": "python3"
  },
  "language_info": {
   "codemirror_mode": {
    "name": "ipython",
    "version": 3
   },
   "file_extension": ".py",
   "mimetype": "text/x-python",
   "name": "python",
   "nbconvert_exporter": "python",
   "pygments_lexer": "ipython3",
   "version": "3.10.12"
  }
 },
 "nbformat": 4,
 "nbformat_minor": 4
}
